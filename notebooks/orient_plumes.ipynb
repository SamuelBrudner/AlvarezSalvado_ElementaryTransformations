{
 "cells": [
  {
   "cell_type": "markdown",
   "metadata": {},
   "source": [
    "# Orientation Plume Visualisation"
   ]
  },
  {
   "cell_type": "code",
   "metadata": {},
   "source": [
    "import random\n",
    "import numpy as np\n",
    "import h5py\n",
    "import imageio.v2 as imageio\n",
    "import matplotlib.pyplot as plt\n"
   ]
  },
  {
   "cell_type": "code",
   "metadata": {},
   "source": [
    "# Load datasets from project_paths.yaml\n",
    "from pathlib import Path\n",
    "import yaml\n",
    "project_dir = Path.cwd()\n",
    "if not (project_dir / \"configs\").exists():\n",
    "    project_dir = project_dir.parent\n",
    "with (project_dir / \"configs\" / \"project_paths.yaml\").open() as fh:\n",
    "    cfg = yaml.safe_load(fh)\n",
    "h5_path = cfg[\"data\"][\"crimaldi\"]\n",
    "video_path = cfg[\"data\"][\"video\"]\n",
    "with h5py.File(h5_path, \"r\") as f:\n",
    "    plume = f[\"intensity\"][...]\n",
    "video = imageio.get_reader(video_path)\n",
    "idx_h5 = random.randrange(plume.shape[0])\n",
    "idx_vid = random.randrange(len(video))\n",
    "fig, axes = plt.subplots(1, 2, figsize=(10, 4))\n",
    "axes[0].imshow(plume[idx_h5], cmap=\"gray\")\n",
    "axes[0].set_title(f\"HDF5 Frame {idx_h5}\")\n",
    "axes[1].imshow(video.get_data(idx_vid))\n",
    "axes[1].set_title(f\"Video Frame {idx_vid}\")\n",
    "plt.show()\n"
   ]
  }
 ],
 "metadata": {
  "kernelspec": {
   "display_name": "Python 3",
   "language": "python",
   "name": "python3"
  },
  "language_info": {
   "name": "python",
   "version": "3.11"
  }
 },
 "nbformat": 4,
 "nbformat_minor": 5
}
