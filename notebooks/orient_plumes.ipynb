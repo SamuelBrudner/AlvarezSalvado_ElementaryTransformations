{
 "cells": [
  {
   "cell_type": "markdown",
   "metadata": {},
   "source": [
    "# Orientation Plume Visualisation"
   ]
  },
  {
   "cell_type": "code",
   "metadata": {},
   "source": [
    "import random\n",
    "import numpy as np\n",
    "import h5py\n",
    "import imageio.v2 as imageio\n",
    "import matplotlib.pyplot as plt\n"
   ]
  },
  {
   "cell_type": "code",
   "metadata": {},
   "source": [
    "# Load datasets (update paths as needed)\n",
    "h5_path = 'data/10302017_10cms_bounded.hdf5'\n",
    "video_path = 'data/smoke_video.avi'\n",
    "with h5py.File(h5_path, 'r') as f:\n",
    "    plume = f['intensity'][...]\n",
    "video = imageio.get_reader(video_path)\n",
    "idx_h5 = random.randrange(plume.shape[0])\n",
    "idx_vid = random.randrange(len(video))\n",
    "fig, axes = plt.subplots(1, 2, figsize=(10, 4))\n",
    "axes[0].imshow(plume[idx_h5], cmap='gray')\n",
    "axes[0].set_title(f'HDF5 Frame {idx_h5}')\n",
    "axes[1].imshow(video.get_data(idx_vid))\n",
    "axes[1].set_title(f'Video Frame {idx_vid}')\n",
    "plt.show()\n"
   ]
  }
 ],
 "metadata": {
  "kernelspec": {
   "display_name": "Python 3",
   "language": "python",
   "name": "python3"
  },
  "language_info": {
   "name": "python",
   "version": "3.11"
  }
 },
 "nbformat": 4,
 "nbformat_minor": 5
}
